import pandas as pd


# Load the dataset
df = pd.read_csv('Resources/student-mat.csv', delimiter=';')


# Remove specified columns
columns_to_remove = ["G1", "G2", "Walc", "address", "famrel", "Dalc", "guardian"]
df.drop(columns_to_remove, axis=1, inplace=True)


# Rename 'G3' to 'Final_Grade'
df.rename(columns={'G3': 'Final_Grade'}, inplace=True)


# Convert 'Yes'/'No' to 0/1
yes_no_columns = df.select_dtypes(include=['object']).columns  # Adjust if your Yes/No are not in all object columns
df[yes_no_columns] = df[yes_no_columns].apply(lambda x: x.map({'yes': 1, 'no': 0}))


# Rename other specified columns
columns_renaming = {
    "studytime": "Study_Time_Hours",
    "traveltime": "Travel_Time_Hours",
    "Mjob": "Mother_job",
    "Fjob": "Father_job"
}
df.rename(columns=columns_renaming, inplace=True)


df.head()


# Save the cleaned dataframe
df.to_csv('/mnt/data/cleaned_student_data.csv', index=False)






