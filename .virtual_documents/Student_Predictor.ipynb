import pandas as pd
from sklearn.preprocessing import MinMaxScaler


# Load the dataset
data = pd.read_csv('Resources/student-mat.csv', delimiter=';')


# Remove unnecessary columns
columns_to_remove = ["G1", "G2", "Walc", "address", "famrel", "Dalc", "guardian"]
data.drop(columns=[col for col in columns_to_remove if col in data.columns], errors='ignore', inplace=True)


# Rename columns
data.rename(columns={"G3": "final_grade", "studytime": "Study_Time_Hours"}, inplace=True)


# Convert 'yes'/'no' to 0's and 1's
binary_columns = ['schoolsup', 'famsup', 'paid', 'activities', 'nursery', 'higher', 'internet', 'romantic']
for col in binary_columns:
    if col in data.columns:
        data[col] = data[col].map({'yes': 1, 'no': 0})


# Handle missing values: Fill with mean for 'absences'
if 'absences' in data.columns:
    data['absences'].fillna(data['absences'].mean(), inplace=True)


# # Normalize numerical features (example: scale 'absences' between 0 and 1)
# scaler = MinMaxScaler()
# numerical_columns = ['absences', 'Study_Time_Hours', 'final_grade']
# for col in numerical_columns:
#     if col in data.columns:
#         data[col] = scaler.fit_transform(data[[col]])


# Show the first few rows of the cleaned data
data.head()


# Export the cleaned dataset
data.to_csv('cleaned_student_mat.csv', index=False)













